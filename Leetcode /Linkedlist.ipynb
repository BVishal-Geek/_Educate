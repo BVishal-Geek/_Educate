{
 "cells": [
  {
   "cell_type": "markdown",
   "metadata": {},
   "source": [
    "# LinkedList "
   ]
  },
  {
   "cell_type": "markdown",
   "metadata": {},
   "source": [
    "## Single LinkedList "
   ]
  },
  {
   "cell_type": "code",
   "execution_count": 12,
   "metadata": {},
   "outputs": [
    {
     "name": "stdout",
     "output_type": "stream",
     "text": [
      "10 -> 20 -> 30 -> "
     ]
    }
   ],
   "source": [
    "class Node: \n",
    "    def __init__(self, data) -> None:\n",
    "        self.data = data\n",
    "        self.next = None\n",
    "\n",
    "class SingleLinkedList:\n",
    "    def __init__(self) -> None:\n",
    "        self.head = None\n",
    "    \n",
    "    def display(self):\n",
    "        if self.head is None: \n",
    "            print(\"Linked List is Empty\")\n",
    "        \n",
    "        else: \n",
    "            temp = self.head\n",
    "            while temp:\n",
    "                print(temp.data,\"->\",end=\" \")\n",
    "                temp = temp.next\n",
    "L = SingleLinkedList()\n",
    "N = Node(10)\n",
    "L.head = N\n",
    "N1 = Node(20)\n",
    "N.head.next = N1\n",
    "N2 = Node(30)\n",
    "N1.next = N2\n",
    "L.display()"
   ]
  }
 ],
 "metadata": {
  "kernelspec": {
   "display_name": "DM",
   "language": "python",
   "name": "python3"
  },
  "language_info": {
   "codemirror_mode": {
    "name": "ipython",
    "version": 3
   },
   "file_extension": ".py",
   "mimetype": "text/x-python",
   "name": "python",
   "nbconvert_exporter": "python",
   "pygments_lexer": "ipython3",
   "version": "3.11.5"
  }
 },
 "nbformat": 4,
 "nbformat_minor": 2
}
